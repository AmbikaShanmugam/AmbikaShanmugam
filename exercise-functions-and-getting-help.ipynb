{
 "cells": [
  {
   "cell_type": "markdown",
   "id": "17310b9a",
   "metadata": {
    "papermill": {
     "duration": 0.01587,
     "end_time": "2021-12-19T09:10:00.538881",
     "exception": false,
     "start_time": "2021-12-19T09:10:00.523011",
     "status": "completed"
    },
    "tags": []
   },
   "source": [
    "**This notebook is an exercise in the [Python](https://www.kaggle.com/learn/python) course.  You can reference the tutorial at [this link](https://www.kaggle.com/colinmorris/functions-and-getting-help).**\n",
    "\n",
    "---\n"
   ]
  },
  {
   "cell_type": "markdown",
   "id": "10d9af7c",
   "metadata": {
    "papermill": {
     "duration": 0.014539,
     "end_time": "2021-12-19T09:10:00.568738",
     "exception": false,
     "start_time": "2021-12-19T09:10:00.554199",
     "status": "completed"
    },
    "tags": []
   },
   "source": [
    "Functions are powerful. Try writing some yourself.\n",
    "\n",
    "As before, don't forget to run the setup code below before jumping into question 1."
   ]
  },
  {
   "cell_type": "code",
   "execution_count": 1,
   "id": "d3b4c83b",
   "metadata": {
    "_kg_hide-input": true,
    "_kg_hide-output": true,
    "execution": {
     "iopub.execute_input": "2021-12-19T09:10:00.603545Z",
     "iopub.status.busy": "2021-12-19T09:10:00.602293Z",
     "iopub.status.idle": "2021-12-19T09:10:00.651255Z",
     "shell.execute_reply": "2021-12-19T09:10:00.651856Z",
     "shell.execute_reply.started": "2021-12-19T09:08:32.064049Z"
    },
    "papermill": {
     "duration": 0.068653,
     "end_time": "2021-12-19T09:10:00.652176",
     "exception": false,
     "start_time": "2021-12-19T09:10:00.583523",
     "status": "completed"
    },
    "tags": []
   },
   "outputs": [
    {
     "name": "stdout",
     "output_type": "stream",
     "text": [
      "Setup complete.\n"
     ]
    }
   ],
   "source": [
    "# SETUP. You don't need to worry for now about what this code does or how it works.\n",
    "from learntools.core import binder; binder.bind(globals())\n",
    "from learntools.python.ex2 import *\n",
    "print('Setup complete.')"
   ]
  },
  {
   "cell_type": "markdown",
   "id": "8c3d7bc6",
   "metadata": {
    "papermill": {
     "duration": 0.015121,
     "end_time": "2021-12-19T09:10:00.684827",
     "exception": false,
     "start_time": "2021-12-19T09:10:00.669706",
     "status": "completed"
    },
    "tags": []
   },
   "source": [
    "# 1.\n",
    "\n",
    "Complete the body of the following function according to its docstring.\n",
    "\n",
    "HINT: Python has a built-in function `round`."
   ]
  },
  {
   "cell_type": "code",
   "execution_count": 2,
   "id": "92dee9da",
   "metadata": {
    "execution": {
     "iopub.execute_input": "2021-12-19T09:10:00.718368Z",
     "iopub.status.busy": "2021-12-19T09:10:00.717755Z",
     "iopub.status.idle": "2021-12-19T09:10:00.728046Z",
     "shell.execute_reply": "2021-12-19T09:10:00.728537Z",
     "shell.execute_reply.started": "2021-12-19T09:08:35.691881Z"
    },
    "papermill": {
     "duration": 0.028406,
     "end_time": "2021-12-19T09:10:00.728700",
     "exception": false,
     "start_time": "2021-12-19T09:10:00.700294",
     "status": "completed"
    },
    "tags": []
   },
   "outputs": [
    {
     "data": {
      "application/javascript": [
       "parent.postMessage({\"jupyterEvent\": \"custom.exercise_interaction\", \"data\": {\"outcomeType\": 1, \"valueTowardsCompletion\": 0.16666666666666666, \"interactionType\": 1, \"questionType\": 2, \"questionId\": \"1_RoundFunctionProblem\", \"learnToolsVersion\": \"0.3.4\", \"failureMessage\": \"\", \"exceptionClass\": \"\", \"trace\": \"\"}}, \"*\")"
      ],
      "text/plain": [
       "<IPython.core.display.Javascript object>"
      ]
     },
     "metadata": {},
     "output_type": "display_data"
    },
    {
     "data": {
      "text/markdown": [
       "<span style=\"color:#33cc33\">Correct</span>"
      ],
      "text/plain": [
       "Correct"
      ]
     },
     "metadata": {},
     "output_type": "display_data"
    }
   ],
   "source": [
    "def round_to_two_places(num):\n",
    "    \"\"\"Return the given number rounded to two decimal places. \n",
    "    \n",
    "    >>> round_to_two_places(3.14159)\n",
    "    3.14\n",
    "    \"\"\"\n",
    "    c=round(num,2)\n",
    "    return c\n",
    "    # Replace this body with your own code.\n",
    "    # (\"pass\" is a keyword that does literally nothing. We used it as a placeholder\n",
    "    # because after we begin a code block, Python requires at least one line of code)\n",
    "    pass\n",
    "\n",
    "# Check your answer\n",
    "q1.check()"
   ]
  },
  {
   "cell_type": "code",
   "execution_count": 3,
   "id": "23cea2d1",
   "metadata": {
    "execution": {
     "iopub.execute_input": "2021-12-19T09:10:00.765542Z",
     "iopub.status.busy": "2021-12-19T09:10:00.764482Z",
     "iopub.status.idle": "2021-12-19T09:10:00.769888Z",
     "shell.execute_reply": "2021-12-19T09:10:00.770722Z"
    },
    "papermill": {
     "duration": 0.026237,
     "end_time": "2021-12-19T09:10:00.770952",
     "exception": false,
     "start_time": "2021-12-19T09:10:00.744715",
     "status": "completed"
    },
    "tags": []
   },
   "outputs": [],
   "source": [
    "# Uncomment the following for a hint\n",
    "#q1.hint()\n",
    "# Or uncomment the following to peek at the solution\n",
    "#q1.solution()"
   ]
  },
  {
   "cell_type": "markdown",
   "id": "6ff7c545",
   "metadata": {
    "papermill": {
     "duration": 0.019904,
     "end_time": "2021-12-19T09:10:00.814277",
     "exception": false,
     "start_time": "2021-12-19T09:10:00.794373",
     "status": "completed"
    },
    "tags": []
   },
   "source": [
    "# 2.\n",
    "The help for `round` says that `ndigits` (the second argument) may be negative.\n",
    "What do you think will happen when it is? Try some examples in the following cell."
   ]
  },
  {
   "cell_type": "code",
   "execution_count": 4,
   "id": "5672705b",
   "metadata": {
    "execution": {
     "iopub.execute_input": "2021-12-19T09:10:00.861130Z",
     "iopub.status.busy": "2021-12-19T09:10:00.860057Z",
     "iopub.status.idle": "2021-12-19T09:10:00.864067Z",
     "shell.execute_reply": "2021-12-19T09:10:00.864725Z",
     "shell.execute_reply.started": "2021-12-19T09:08:38.886547Z"
    },
    "papermill": {
     "duration": 0.029391,
     "end_time": "2021-12-19T09:10:00.864930",
     "exception": false,
     "start_time": "2021-12-19T09:10:00.835539",
     "status": "completed"
    },
    "tags": []
   },
   "outputs": [
    {
     "data": {
      "text/plain": [
       "20.0"
      ]
     },
     "execution_count": 4,
     "metadata": {},
     "output_type": "execute_result"
    }
   ],
   "source": [
    "# Put your test code here\n",
    "round(22.1342,-1)"
   ]
  },
  {
   "cell_type": "markdown",
   "id": "c4a7c866",
   "metadata": {
    "papermill": {
     "duration": 0.016243,
     "end_time": "2021-12-19T09:10:00.901305",
     "exception": false,
     "start_time": "2021-12-19T09:10:00.885062",
     "status": "completed"
    },
    "tags": []
   },
   "source": [
    "Can you think of a case where this would be useful?  Once you're ready, run the code cell below to see the answer and to receive credit for completing the problem."
   ]
  },
  {
   "cell_type": "code",
   "execution_count": 5,
   "id": "a58d4ad4",
   "metadata": {
    "execution": {
     "iopub.execute_input": "2021-12-19T09:10:00.938287Z",
     "iopub.status.busy": "2021-12-19T09:10:00.937667Z",
     "iopub.status.idle": "2021-12-19T09:10:00.943483Z",
     "shell.execute_reply": "2021-12-19T09:10:00.944017Z",
     "shell.execute_reply.started": "2021-12-19T05:06:37.280179Z"
    },
    "papermill": {
     "duration": 0.025778,
     "end_time": "2021-12-19T09:10:00.944193",
     "exception": false,
     "start_time": "2021-12-19T09:10:00.918415",
     "status": "completed"
    },
    "tags": []
   },
   "outputs": [
    {
     "data": {
      "application/javascript": [
       "parent.postMessage({\"jupyterEvent\": \"custom.exercise_interaction\", \"data\": {\"interactionType\": 3, \"questionType\": 4, \"questionId\": \"2_RoundNdigitsProblem\", \"learnToolsVersion\": \"0.3.4\", \"valueTowardsCompletion\": 0.0, \"failureMessage\": \"\", \"exceptionClass\": \"\", \"trace\": \"\", \"outcomeType\": 4}}, \"*\")"
      ],
      "text/plain": [
       "<IPython.core.display.Javascript object>"
      ]
     },
     "metadata": {},
     "output_type": "display_data"
    },
    {
     "data": {
      "text/markdown": [
       "<span style=\"color:#33cc99\">Solution:</span> As you've seen, `ndigits=-1` rounds to the nearest 10, `ndigits=-2` rounds to the nearest 100 and so on. Where might this be useful? Suppose we're dealing with large numbers:\n",
       "\n",
       "> The area of Finland is 338,424 km²  \n",
       "> The area of Greenland is 2,166,086 km²\n",
       "\n",
       "We probably don't care whether it's really 338,424, or 338,425, or 338,177. All those digits of accuracy are just distracting. We can chop them off by calling `round()` with `ndigits=-3`:\n",
       "\n",
       "> The area of Finland is 338,000 km²  \n",
       "> The area of Greenland is 2,166,000 km²\n",
       "\n",
       "(We'll talk about how we would get the commas later when we talk about string formatting :))\n"
      ],
      "text/plain": [
       "Solution: As you've seen, `ndigits=-1` rounds to the nearest 10, `ndigits=-2` rounds to the nearest 100 and so on. Where might this be useful? Suppose we're dealing with large numbers:\n",
       "\n",
       "> The area of Finland is 338,424 km²  \n",
       "> The area of Greenland is 2,166,086 km²\n",
       "\n",
       "We probably don't care whether it's really 338,424, or 338,425, or 338,177. All those digits of accuracy are just distracting. We can chop them off by calling `round()` with `ndigits=-3`:\n",
       "\n",
       "> The area of Finland is 338,000 km²  \n",
       "> The area of Greenland is 2,166,000 km²\n",
       "\n",
       "(We'll talk about how we would get the commas later when we talk about string formatting :))"
      ]
     },
     "metadata": {},
     "output_type": "display_data"
    }
   ],
   "source": [
    "# Check your answer (Run this code cell to receive credit!)\n",
    "q2.solution()"
   ]
  },
  {
   "cell_type": "code",
   "execution_count": 6,
   "id": "032c75f4",
   "metadata": {
    "execution": {
     "iopub.execute_input": "2021-12-19T09:10:00.983403Z",
     "iopub.status.busy": "2021-12-19T09:10:00.982764Z",
     "iopub.status.idle": "2021-12-19T09:10:00.987481Z",
     "shell.execute_reply": "2021-12-19T09:10:00.988010Z",
     "shell.execute_reply.started": "2021-12-19T09:08:43.225225Z"
    },
    "papermill": {
     "duration": 0.026142,
     "end_time": "2021-12-19T09:10:00.988187",
     "exception": false,
     "start_time": "2021-12-19T09:10:00.962045",
     "status": "completed"
    },
    "tags": []
   },
   "outputs": [
    {
     "data": {
      "text/plain": [
       "20.0"
      ]
     },
     "execution_count": 6,
     "metadata": {},
     "output_type": "execute_result"
    }
   ],
   "source": [
    "round(23.345,-1)"
   ]
  },
  {
   "cell_type": "markdown",
   "id": "edea5460",
   "metadata": {
    "papermill": {
     "duration": 0.017458,
     "end_time": "2021-12-19T09:10:01.023740",
     "exception": false,
     "start_time": "2021-12-19T09:10:01.006282",
     "status": "completed"
    },
    "tags": []
   },
   "source": [
    "# 3.\n",
    "\n",
    "In the previous exercise, the candy-sharing friends Alice, Bob and Carol tried to split candies evenly. For the sake of their friendship, any candies left over would be smashed. For example, if they collectively bring home 91 candies, they'll take 30 each and smash 1.\n",
    "\n",
    "Below is a simple function that will calculate the number of candies to smash for *any* number of total candies.\n",
    "\n",
    "Modify it so that it optionally takes a second argument representing the number of friends the candies are being split between. If no second argument is provided, it should assume 3 friends, as before.\n",
    "\n",
    "Update the docstring to reflect this new behaviour."
   ]
  },
  {
   "cell_type": "code",
   "execution_count": 7,
   "id": "38ef4474",
   "metadata": {
    "execution": {
     "iopub.execute_input": "2021-12-19T09:10:01.063119Z",
     "iopub.status.busy": "2021-12-19T09:10:01.062496Z",
     "iopub.status.idle": "2021-12-19T09:10:01.069266Z",
     "shell.execute_reply": "2021-12-19T09:10:01.069836Z",
     "shell.execute_reply.started": "2021-12-19T09:09:25.656578Z"
    },
    "papermill": {
     "duration": 0.028562,
     "end_time": "2021-12-19T09:10:01.070005",
     "exception": false,
     "start_time": "2021-12-19T09:10:01.041443",
     "status": "completed"
    },
    "tags": []
   },
   "outputs": [
    {
     "data": {
      "application/javascript": [
       "parent.postMessage({\"jupyterEvent\": \"custom.exercise_interaction\", \"data\": {\"outcomeType\": 1, \"valueTowardsCompletion\": 0.16666666666666666, \"interactionType\": 1, \"questionType\": 2, \"questionId\": \"3_CandySmashingFunctionProblem\", \"learnToolsVersion\": \"0.3.4\", \"failureMessage\": \"\", \"exceptionClass\": \"\", \"trace\": \"\"}}, \"*\")"
      ],
      "text/plain": [
       "<IPython.core.display.Javascript object>"
      ]
     },
     "metadata": {},
     "output_type": "display_data"
    },
    {
     "data": {
      "text/markdown": [
       "<span style=\"color:#33cc33\">Correct</span>"
      ],
      "text/plain": [
       "Correct"
      ]
     },
     "metadata": {},
     "output_type": "display_data"
    }
   ],
   "source": [
    "def to_smash(total_candies):\n",
    "    \"\"\"Return the number of leftover candies that must be smashed after distributing\n",
    "    the given number of candies evenly between 3 friends.\n",
    "    \n",
    "    >>> to_smash(91)\n",
    "    1\n",
    "    \"\"\"\n",
    "    return total_candies % 3\n",
    "def to_smash(total_candies, n_friends=3):\n",
    "    return total_candies % n_friends\n",
    "\n",
    "# Check your answer\n",
    "q3.check()"
   ]
  },
  {
   "cell_type": "code",
   "execution_count": 8,
   "id": "48a7890d",
   "metadata": {
    "execution": {
     "iopub.execute_input": "2021-12-19T09:10:01.110848Z",
     "iopub.status.busy": "2021-12-19T09:10:01.110236Z",
     "iopub.status.idle": "2021-12-19T09:10:01.112998Z",
     "shell.execute_reply": "2021-12-19T09:10:01.113576Z"
    },
    "papermill": {
     "duration": 0.024897,
     "end_time": "2021-12-19T09:10:01.113754",
     "exception": false,
     "start_time": "2021-12-19T09:10:01.088857",
     "status": "completed"
    },
    "tags": []
   },
   "outputs": [],
   "source": [
    "#q3.hint()"
   ]
  },
  {
   "cell_type": "code",
   "execution_count": 9,
   "id": "2d4557f3",
   "metadata": {
    "execution": {
     "iopub.execute_input": "2021-12-19T09:10:01.154966Z",
     "iopub.status.busy": "2021-12-19T09:10:01.154323Z",
     "iopub.status.idle": "2021-12-19T09:10:01.160484Z",
     "shell.execute_reply": "2021-12-19T09:10:01.161053Z",
     "shell.execute_reply.started": "2021-12-19T09:08:51.762224Z"
    },
    "papermill": {
     "duration": 0.028294,
     "end_time": "2021-12-19T09:10:01.161224",
     "exception": false,
     "start_time": "2021-12-19T09:10:01.132930",
     "status": "completed"
    },
    "tags": []
   },
   "outputs": [
    {
     "data": {
      "application/javascript": [
       "parent.postMessage({\"jupyterEvent\": \"custom.exercise_interaction\", \"data\": {\"interactionType\": 3, \"questionType\": 2, \"questionId\": \"3_CandySmashingFunctionProblem\", \"learnToolsVersion\": \"0.3.4\", \"valueTowardsCompletion\": 0.0, \"failureMessage\": \"\", \"exceptionClass\": \"\", \"trace\": \"\", \"outcomeType\": 4}}, \"*\")"
      ],
      "text/plain": [
       "<IPython.core.display.Javascript object>"
      ]
     },
     "metadata": {},
     "output_type": "display_data"
    },
    {
     "data": {
      "text/markdown": [
       "<span style=\"color:#33cc99\">Solution:</span> \n",
       "```python\n",
       "def to_smash(total_candies, n_friends=3):\n",
       "    return total_candies % n_friends\n",
       "```"
      ],
      "text/plain": [
       "Solution: \n",
       "```python\n",
       "def to_smash(total_candies, n_friends=3):\n",
       "    return total_candies % n_friends\n",
       "```"
      ]
     },
     "metadata": {},
     "output_type": "display_data"
    }
   ],
   "source": [
    "q3.solution()"
   ]
  },
  {
   "cell_type": "markdown",
   "id": "2a110529",
   "metadata": {
    "papermill": {
     "duration": 0.019773,
     "end_time": "2021-12-19T09:10:01.201118",
     "exception": false,
     "start_time": "2021-12-19T09:10:01.181345",
     "status": "completed"
    },
    "tags": []
   },
   "source": [
    "# 4. (Optional)\n",
    "\n",
    "It may not be fun, but reading and understanding error messages will be an important part of your Python career.\n",
    "\n",
    "Each code cell below contains some commented buggy code. For each cell...\n",
    "\n",
    "1. Read the code and predict what you think will happen when it's run.\n",
    "2. Then uncomment the code and run it to see what happens. (**Tip**: In the kernel editor, you can highlight several lines and press `ctrl`+`/` to toggle commenting.)\n",
    "3. Fix the code (so that it accomplishes its intended purpose without throwing an exception)\n",
    "\n",
    "<!-- TODO: should this be autochecked? Delta is probably pretty small. -->"
   ]
  },
  {
   "cell_type": "code",
   "execution_count": 10,
   "id": "3fc84738",
   "metadata": {
    "execution": {
     "iopub.execute_input": "2021-12-19T09:10:01.246925Z",
     "iopub.status.busy": "2021-12-19T09:10:01.245968Z",
     "iopub.status.idle": "2021-12-19T09:10:01.249840Z",
     "shell.execute_reply": "2021-12-19T09:10:01.249321Z",
     "shell.execute_reply.started": "2021-12-19T05:32:10.503159Z"
    },
    "papermill": {
     "duration": 0.028859,
     "end_time": "2021-12-19T09:10:01.249983",
     "exception": false,
     "start_time": "2021-12-19T09:10:01.221124",
     "status": "completed"
    },
    "tags": []
   },
   "outputs": [
    {
     "data": {
      "text/plain": [
       "10.0"
      ]
     },
     "execution_count": 10,
     "metadata": {},
     "output_type": "execute_result"
    }
   ],
   "source": [
    "round_to_two_places(9.9999)"
   ]
  },
  {
   "cell_type": "code",
   "execution_count": 11,
   "id": "a3db901d",
   "metadata": {
    "execution": {
     "iopub.execute_input": "2021-12-19T09:10:01.294256Z",
     "iopub.status.busy": "2021-12-19T09:10:01.293614Z",
     "iopub.status.idle": "2021-12-19T09:10:01.299039Z",
     "shell.execute_reply": "2021-12-19T09:10:01.299644Z",
     "shell.execute_reply.started": "2021-12-19T05:33:43.333141Z"
    },
    "papermill": {
     "duration": 0.029072,
     "end_time": "2021-12-19T09:10:01.299820",
     "exception": false,
     "start_time": "2021-12-19T09:10:01.270748",
     "status": "completed"
    },
    "tags": []
   },
   "outputs": [
    {
     "data": {
      "text/plain": [
       "5"
      ]
     },
     "execution_count": 11,
     "metadata": {},
     "output_type": "execute_result"
    }
   ],
   "source": [
    " x = -10\n",
    " y = 5\n",
    "# # Which of the two variables above has the smallest absolute value?\n",
    "smallest_abs = min(abs(x),abs(y))\n",
    "smallest_abs"
   ]
  },
  {
   "cell_type": "code",
   "execution_count": 12,
   "id": "4c0ae8cd",
   "metadata": {
    "execution": {
     "iopub.execute_input": "2021-12-19T09:10:01.344662Z",
     "iopub.status.busy": "2021-12-19T09:10:01.344032Z",
     "iopub.status.idle": "2021-12-19T09:10:01.349221Z",
     "shell.execute_reply": "2021-12-19T09:10:01.349682Z",
     "shell.execute_reply.started": "2021-12-19T05:33:59.389303Z"
    },
    "papermill": {
     "duration": 0.029157,
     "end_time": "2021-12-19T09:10:01.349856",
     "exception": false,
     "start_time": "2021-12-19T09:10:01.320699",
     "status": "completed"
    },
    "tags": []
   },
   "outputs": [
    {
     "name": "stdout",
     "output_type": "stream",
     "text": [
      "5\n"
     ]
    }
   ],
   "source": [
    " def f(x):\n",
    "        y = abs(x)\n",
    "        return y\n",
    "\n",
    " print(f(5))"
   ]
  },
  {
   "cell_type": "markdown",
   "id": "3513422e",
   "metadata": {
    "papermill": {
     "duration": 0.021805,
     "end_time": "2021-12-19T09:10:01.393065",
     "exception": false,
     "start_time": "2021-12-19T09:10:01.371260",
     "status": "completed"
    },
    "tags": []
   },
   "source": [
    "# Keep Going\n",
    "\n",
    "Nice job with the code. Next up, you'll learn about *conditionals*, which you'll need to **[write interesting programs](https://www.kaggle.com/colinmorris/booleans-and-conditionals)**. "
   ]
  },
  {
   "cell_type": "markdown",
   "id": "f1d321f1",
   "metadata": {
    "papermill": {
     "duration": 0.020718,
     "end_time": "2021-12-19T09:10:01.435062",
     "exception": false,
     "start_time": "2021-12-19T09:10:01.414344",
     "status": "completed"
    },
    "tags": []
   },
   "source": [
    "---\n",
    "\n",
    "\n",
    "\n",
    "\n",
    "*Have questions or comments? Visit the [course discussion forum](https://www.kaggle.com/learn/python/discussion) to chat with other learners.*"
   ]
  }
 ],
 "metadata": {
  "kernelspec": {
   "display_name": "Python 3",
   "language": "python",
   "name": "python3"
  },
  "language_info": {
   "codemirror_mode": {
    "name": "ipython",
    "version": 3
   },
   "file_extension": ".py",
   "mimetype": "text/x-python",
   "name": "python",
   "nbconvert_exporter": "python",
   "pygments_lexer": "ipython3",
   "version": "3.7.12"
  },
  "papermill": {
   "default_parameters": {},
   "duration": 11.460037,
   "end_time": "2021-12-19T09:10:02.065614",
   "environment_variables": {},
   "exception": null,
   "input_path": "__notebook__.ipynb",
   "output_path": "__notebook__.ipynb",
   "parameters": {},
   "start_time": "2021-12-19T09:09:50.605577",
   "version": "2.3.3"
  }
 },
 "nbformat": 4,
 "nbformat_minor": 5
}
