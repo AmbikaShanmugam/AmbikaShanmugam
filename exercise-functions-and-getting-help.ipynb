{
 "cells": [
  {
   "cell_type": "markdown",
   "id": "e38cf04a",
   "metadata": {
    "papermill": {
     "duration": 0.015641,
     "end_time": "2021-12-19T05:36:06.192344",
     "exception": false,
     "start_time": "2021-12-19T05:36:06.176703",
     "status": "completed"
    },
    "tags": []
   },
   "source": [
    "**This notebook is an exercise in the [Python](https://www.kaggle.com/learn/python) course.  You can reference the tutorial at [this link](https://www.kaggle.com/colinmorris/functions-and-getting-help).**\n",
    "\n",
    "---\n"
   ]
  },
  {
   "cell_type": "markdown",
   "id": "2c0805b7",
   "metadata": {
    "papermill": {
     "duration": 0.014201,
     "end_time": "2021-12-19T05:36:06.221730",
     "exception": false,
     "start_time": "2021-12-19T05:36:06.207529",
     "status": "completed"
    },
    "tags": []
   },
   "source": [
    "Functions are powerful. Try writing some yourself.\n",
    "\n",
    "As before, don't forget to run the setup code below before jumping into question 1."
   ]
  },
  {
   "cell_type": "code",
   "execution_count": 1,
   "id": "87aacf81",
   "metadata": {
    "_kg_hide-input": true,
    "_kg_hide-output": true,
    "execution": {
     "iopub.execute_input": "2021-12-19T05:36:06.255736Z",
     "iopub.status.busy": "2021-12-19T05:36:06.254507Z",
     "iopub.status.idle": "2021-12-19T05:36:06.305266Z",
     "shell.execute_reply": "2021-12-19T05:36:06.304497Z",
     "shell.execute_reply.started": "2021-12-19T05:00:49.557898Z"
    },
    "papermill": {
     "duration": 0.069065,
     "end_time": "2021-12-19T05:36:06.305428",
     "exception": false,
     "start_time": "2021-12-19T05:36:06.236363",
     "status": "completed"
    },
    "tags": []
   },
   "outputs": [
    {
     "name": "stdout",
     "output_type": "stream",
     "text": [
      "Setup complete.\n"
     ]
    }
   ],
   "source": [
    "# SETUP. You don't need to worry for now about what this code does or how it works.\n",
    "from learntools.core import binder; binder.bind(globals())\n",
    "from learntools.python.ex2 import *\n",
    "print('Setup complete.')"
   ]
  },
  {
   "cell_type": "markdown",
   "id": "1c39fe1f",
   "metadata": {
    "papermill": {
     "duration": 0.015614,
     "end_time": "2021-12-19T05:36:06.338068",
     "exception": false,
     "start_time": "2021-12-19T05:36:06.322454",
     "status": "completed"
    },
    "tags": []
   },
   "source": [
    "# 1.\n",
    "\n",
    "Complete the body of the following function according to its docstring.\n",
    "\n",
    "HINT: Python has a built-in function `round`."
   ]
  },
  {
   "cell_type": "code",
   "execution_count": 2,
   "id": "0ca31893",
   "metadata": {
    "execution": {
     "iopub.execute_input": "2021-12-19T05:36:06.377113Z",
     "iopub.status.busy": "2021-12-19T05:36:06.376322Z",
     "iopub.status.idle": "2021-12-19T05:36:06.381144Z",
     "shell.execute_reply": "2021-12-19T05:36:06.381843Z",
     "shell.execute_reply.started": "2021-12-19T05:24:08.447422Z"
    },
    "papermill": {
     "duration": 0.029121,
     "end_time": "2021-12-19T05:36:06.382030",
     "exception": false,
     "start_time": "2021-12-19T05:36:06.352909",
     "status": "completed"
    },
    "tags": []
   },
   "outputs": [
    {
     "data": {
      "application/javascript": [
       "parent.postMessage({\"jupyterEvent\": \"custom.exercise_interaction\", \"data\": {\"outcomeType\": 1, \"valueTowardsCompletion\": 0.16666666666666666, \"interactionType\": 1, \"questionType\": 2, \"questionId\": \"1_RoundFunctionProblem\", \"learnToolsVersion\": \"0.3.4\", \"failureMessage\": \"\", \"exceptionClass\": \"\", \"trace\": \"\"}}, \"*\")"
      ],
      "text/plain": [
       "<IPython.core.display.Javascript object>"
      ]
     },
     "metadata": {},
     "output_type": "display_data"
    },
    {
     "data": {
      "text/markdown": [
       "<span style=\"color:#33cc33\">Correct</span>"
      ],
      "text/plain": [
       "Correct"
      ]
     },
     "metadata": {},
     "output_type": "display_data"
    }
   ],
   "source": [
    "def round_to_two_places(num):\n",
    "    \"\"\"Return the given number rounded to two decimal places. \n",
    "    \n",
    "    >>> round_to_two_places(3.14159)\n",
    "    3.14\n",
    "    \"\"\"\n",
    "    c=round(num,2)\n",
    "    return c\n",
    "    # Replace this body with your own code.\n",
    "    # (\"pass\" is a keyword that does literally nothing. We used it as a placeholder\n",
    "    # because after we begin a code block, Python requires at least one line of code)\n",
    "    pass\n",
    "\n",
    "# Check your answer\n",
    "q1.check()"
   ]
  },
  {
   "cell_type": "code",
   "execution_count": 3,
   "id": "648d44fc",
   "metadata": {
    "execution": {
     "iopub.execute_input": "2021-12-19T05:36:06.418640Z",
     "iopub.status.busy": "2021-12-19T05:36:06.417840Z",
     "iopub.status.idle": "2021-12-19T05:36:06.420854Z",
     "shell.execute_reply": "2021-12-19T05:36:06.421384Z"
    },
    "papermill": {
     "duration": 0.023164,
     "end_time": "2021-12-19T05:36:06.421571",
     "exception": false,
     "start_time": "2021-12-19T05:36:06.398407",
     "status": "completed"
    },
    "tags": []
   },
   "outputs": [],
   "source": [
    "# Uncomment the following for a hint\n",
    "#q1.hint()\n",
    "# Or uncomment the following to peek at the solution\n",
    "#q1.solution()"
   ]
  },
  {
   "cell_type": "markdown",
   "id": "43100fa1",
   "metadata": {
    "papermill": {
     "duration": 0.015641,
     "end_time": "2021-12-19T05:36:06.454196",
     "exception": false,
     "start_time": "2021-12-19T05:36:06.438555",
     "status": "completed"
    },
    "tags": []
   },
   "source": [
    "# 2.\n",
    "The help for `round` says that `ndigits` (the second argument) may be negative.\n",
    "What do you think will happen when it is? Try some examples in the following cell."
   ]
  },
  {
   "cell_type": "code",
   "execution_count": 4,
   "id": "5c74bd23",
   "metadata": {
    "execution": {
     "iopub.execute_input": "2021-12-19T05:36:06.490257Z",
     "iopub.status.busy": "2021-12-19T05:36:06.489541Z",
     "iopub.status.idle": "2021-12-19T05:36:06.494780Z",
     "shell.execute_reply": "2021-12-19T05:36:06.495287Z",
     "shell.execute_reply.started": "2021-12-19T05:06:25.772596Z"
    },
    "papermill": {
     "duration": 0.025358,
     "end_time": "2021-12-19T05:36:06.495456",
     "exception": false,
     "start_time": "2021-12-19T05:36:06.470098",
     "status": "completed"
    },
    "tags": []
   },
   "outputs": [
    {
     "data": {
      "text/plain": [
       "20.0"
      ]
     },
     "execution_count": 4,
     "metadata": {},
     "output_type": "execute_result"
    }
   ],
   "source": [
    "# Put your test code here\n",
    "round(22.1342,-1)"
   ]
  },
  {
   "cell_type": "markdown",
   "id": "e11c545c",
   "metadata": {
    "papermill": {
     "duration": 0.016029,
     "end_time": "2021-12-19T05:36:06.527997",
     "exception": false,
     "start_time": "2021-12-19T05:36:06.511968",
     "status": "completed"
    },
    "tags": []
   },
   "source": [
    "Can you think of a case where this would be useful?  Once you're ready, run the code cell below to see the answer and to receive credit for completing the problem."
   ]
  },
  {
   "cell_type": "code",
   "execution_count": 5,
   "id": "5ef585db",
   "metadata": {
    "execution": {
     "iopub.execute_input": "2021-12-19T05:36:06.564624Z",
     "iopub.status.busy": "2021-12-19T05:36:06.563960Z",
     "iopub.status.idle": "2021-12-19T05:36:06.570125Z",
     "shell.execute_reply": "2021-12-19T05:36:06.570693Z",
     "shell.execute_reply.started": "2021-12-19T05:06:37.280179Z"
    },
    "papermill": {
     "duration": 0.026741,
     "end_time": "2021-12-19T05:36:06.571005",
     "exception": false,
     "start_time": "2021-12-19T05:36:06.544264",
     "status": "completed"
    },
    "tags": []
   },
   "outputs": [
    {
     "data": {
      "application/javascript": [
       "parent.postMessage({\"jupyterEvent\": \"custom.exercise_interaction\", \"data\": {\"interactionType\": 3, \"questionType\": 4, \"questionId\": \"2_RoundNdigitsProblem\", \"learnToolsVersion\": \"0.3.4\", \"valueTowardsCompletion\": 0.0, \"failureMessage\": \"\", \"exceptionClass\": \"\", \"trace\": \"\", \"outcomeType\": 4}}, \"*\")"
      ],
      "text/plain": [
       "<IPython.core.display.Javascript object>"
      ]
     },
     "metadata": {},
     "output_type": "display_data"
    },
    {
     "data": {
      "text/markdown": [
       "<span style=\"color:#33cc99\">Solution:</span> As you've seen, `ndigits=-1` rounds to the nearest 10, `ndigits=-2` rounds to the nearest 100 and so on. Where might this be useful? Suppose we're dealing with large numbers:\n",
       "\n",
       "> The area of Finland is 338,424 km²  \n",
       "> The area of Greenland is 2,166,086 km²\n",
       "\n",
       "We probably don't care whether it's really 338,424, or 338,425, or 338,177. All those digits of accuracy are just distracting. We can chop them off by calling `round()` with `ndigits=-3`:\n",
       "\n",
       "> The area of Finland is 338,000 km²  \n",
       "> The area of Greenland is 2,166,000 km²\n",
       "\n",
       "(We'll talk about how we would get the commas later when we talk about string formatting :))\n"
      ],
      "text/plain": [
       "Solution: As you've seen, `ndigits=-1` rounds to the nearest 10, `ndigits=-2` rounds to the nearest 100 and so on. Where might this be useful? Suppose we're dealing with large numbers:\n",
       "\n",
       "> The area of Finland is 338,424 km²  \n",
       "> The area of Greenland is 2,166,086 km²\n",
       "\n",
       "We probably don't care whether it's really 338,424, or 338,425, or 338,177. All those digits of accuracy are just distracting. We can chop them off by calling `round()` with `ndigits=-3`:\n",
       "\n",
       "> The area of Finland is 338,000 km²  \n",
       "> The area of Greenland is 2,166,000 km²\n",
       "\n",
       "(We'll talk about how we would get the commas later when we talk about string formatting :))"
      ]
     },
     "metadata": {},
     "output_type": "display_data"
    }
   ],
   "source": [
    "# Check your answer (Run this code cell to receive credit!)\n",
    "q2.solution()"
   ]
  },
  {
   "cell_type": "code",
   "execution_count": 6,
   "id": "33e8ae54",
   "metadata": {
    "execution": {
     "iopub.execute_input": "2021-12-19T05:36:06.609984Z",
     "iopub.status.busy": "2021-12-19T05:36:06.609171Z",
     "iopub.status.idle": "2021-12-19T05:36:06.614172Z",
     "shell.execute_reply": "2021-12-19T05:36:06.614731Z",
     "shell.execute_reply.started": "2021-12-19T05:22:08.904105Z"
    },
    "papermill": {
     "duration": 0.026149,
     "end_time": "2021-12-19T05:36:06.614915",
     "exception": false,
     "start_time": "2021-12-19T05:36:06.588766",
     "status": "completed"
    },
    "tags": []
   },
   "outputs": [
    {
     "data": {
      "text/plain": [
       "20.0"
      ]
     },
     "execution_count": 6,
     "metadata": {},
     "output_type": "execute_result"
    }
   ],
   "source": [
    "round(23.345,-1)"
   ]
  },
  {
   "cell_type": "markdown",
   "id": "e35dce3f",
   "metadata": {
    "papermill": {
     "duration": 0.017974,
     "end_time": "2021-12-19T05:36:06.650699",
     "exception": false,
     "start_time": "2021-12-19T05:36:06.632725",
     "status": "completed"
    },
    "tags": []
   },
   "source": [
    "# 3.\n",
    "\n",
    "In the previous exercise, the candy-sharing friends Alice, Bob and Carol tried to split candies evenly. For the sake of their friendship, any candies left over would be smashed. For example, if they collectively bring home 91 candies, they'll take 30 each and smash 1.\n",
    "\n",
    "Below is a simple function that will calculate the number of candies to smash for *any* number of total candies.\n",
    "\n",
    "Modify it so that it optionally takes a second argument representing the number of friends the candies are being split between. If no second argument is provided, it should assume 3 friends, as before.\n",
    "\n",
    "Update the docstring to reflect this new behaviour."
   ]
  },
  {
   "cell_type": "code",
   "execution_count": 7,
   "id": "68ec5a98",
   "metadata": {
    "execution": {
     "iopub.execute_input": "2021-12-19T05:36:06.692292Z",
     "iopub.status.busy": "2021-12-19T05:36:06.688949Z",
     "iopub.status.idle": "2021-12-19T05:36:06.696906Z",
     "shell.execute_reply": "2021-12-19T05:36:06.697435Z"
    },
    "papermill": {
     "duration": 0.029234,
     "end_time": "2021-12-19T05:36:06.697638",
     "exception": false,
     "start_time": "2021-12-19T05:36:06.668404",
     "status": "completed"
    },
    "tags": []
   },
   "outputs": [
    {
     "data": {
      "application/javascript": [
       "parent.postMessage({\"jupyterEvent\": \"custom.exercise_interaction\", \"data\": {\"outcomeType\": 2, \"failureMessage\": \"`to_smash` should be callable with two arguments (e.g. `to_smash(10, 2)`\", \"interactionType\": 1, \"questionType\": 2, \"questionId\": \"3_CandySmashingFunctionProblem\", \"learnToolsVersion\": \"0.3.4\", \"valueTowardsCompletion\": 0.0, \"exceptionClass\": \"\", \"trace\": \"\"}}, \"*\")"
      ],
      "text/plain": [
       "<IPython.core.display.Javascript object>"
      ]
     },
     "metadata": {},
     "output_type": "display_data"
    },
    {
     "data": {
      "text/markdown": [
       "<span style=\"color:#cc3333\">Incorrect:</span> `to_smash` should be callable with two arguments (e.g. `to_smash(10, 2)`"
      ],
      "text/plain": [
       "Incorrect: `to_smash` should be callable with two arguments (e.g. `to_smash(10, 2)`"
      ]
     },
     "metadata": {},
     "output_type": "display_data"
    }
   ],
   "source": [
    "def to_smash(total_candies):\n",
    "    \"\"\"Return the number of leftover candies that must be smashed after distributing\n",
    "    the given number of candies evenly between 3 friends.\n",
    "    \n",
    "    >>> to_smash(91)\n",
    "    1\n",
    "    \"\"\"\n",
    "    return total_candies % 3\n",
    "\n",
    "# Check your answer\n",
    "q3.check()"
   ]
  },
  {
   "cell_type": "code",
   "execution_count": 8,
   "id": "aabbf6f8",
   "metadata": {
    "execution": {
     "iopub.execute_input": "2021-12-19T05:36:06.740015Z",
     "iopub.status.busy": "2021-12-19T05:36:06.739328Z",
     "iopub.status.idle": "2021-12-19T05:36:06.742512Z",
     "shell.execute_reply": "2021-12-19T05:36:06.743046Z"
    },
    "papermill": {
     "duration": 0.025798,
     "end_time": "2021-12-19T05:36:06.743218",
     "exception": false,
     "start_time": "2021-12-19T05:36:06.717420",
     "status": "completed"
    },
    "tags": []
   },
   "outputs": [],
   "source": [
    "#q3.hint()"
   ]
  },
  {
   "cell_type": "code",
   "execution_count": 9,
   "id": "d614b804",
   "metadata": {
    "execution": {
     "iopub.execute_input": "2021-12-19T05:36:06.786548Z",
     "iopub.status.busy": "2021-12-19T05:36:06.785809Z",
     "iopub.status.idle": "2021-12-19T05:36:06.788707Z",
     "shell.execute_reply": "2021-12-19T05:36:06.789302Z"
    },
    "papermill": {
     "duration": 0.026159,
     "end_time": "2021-12-19T05:36:06.789472",
     "exception": false,
     "start_time": "2021-12-19T05:36:06.763313",
     "status": "completed"
    },
    "tags": []
   },
   "outputs": [],
   "source": [
    "#q3.solution()"
   ]
  },
  {
   "cell_type": "markdown",
   "id": "e18dfacb",
   "metadata": {
    "papermill": {
     "duration": 0.019008,
     "end_time": "2021-12-19T05:36:06.827776",
     "exception": false,
     "start_time": "2021-12-19T05:36:06.808768",
     "status": "completed"
    },
    "tags": []
   },
   "source": [
    "# 4. (Optional)\n",
    "\n",
    "It may not be fun, but reading and understanding error messages will be an important part of your Python career.\n",
    "\n",
    "Each code cell below contains some commented buggy code. For each cell...\n",
    "\n",
    "1. Read the code and predict what you think will happen when it's run.\n",
    "2. Then uncomment the code and run it to see what happens. (**Tip**: In the kernel editor, you can highlight several lines and press `ctrl`+`/` to toggle commenting.)\n",
    "3. Fix the code (so that it accomplishes its intended purpose without throwing an exception)\n",
    "\n",
    "<!-- TODO: should this be autochecked? Delta is probably pretty small. -->"
   ]
  },
  {
   "cell_type": "code",
   "execution_count": 10,
   "id": "ac77196d",
   "metadata": {
    "execution": {
     "iopub.execute_input": "2021-12-19T05:36:06.870787Z",
     "iopub.status.busy": "2021-12-19T05:36:06.870114Z",
     "iopub.status.idle": "2021-12-19T05:36:06.874806Z",
     "shell.execute_reply": "2021-12-19T05:36:06.875339Z",
     "shell.execute_reply.started": "2021-12-19T05:32:10.503159Z"
    },
    "papermill": {
     "duration": 0.027884,
     "end_time": "2021-12-19T05:36:06.875512",
     "exception": false,
     "start_time": "2021-12-19T05:36:06.847628",
     "status": "completed"
    },
    "tags": []
   },
   "outputs": [
    {
     "data": {
      "text/plain": [
       "10.0"
      ]
     },
     "execution_count": 10,
     "metadata": {},
     "output_type": "execute_result"
    }
   ],
   "source": [
    "round_to_two_places(9.9999)"
   ]
  },
  {
   "cell_type": "code",
   "execution_count": 11,
   "id": "9300ab97",
   "metadata": {
    "execution": {
     "iopub.execute_input": "2021-12-19T05:36:06.917930Z",
     "iopub.status.busy": "2021-12-19T05:36:06.917191Z",
     "iopub.status.idle": "2021-12-19T05:36:06.922962Z",
     "shell.execute_reply": "2021-12-19T05:36:06.923632Z",
     "shell.execute_reply.started": "2021-12-19T05:33:43.333141Z"
    },
    "papermill": {
     "duration": 0.028676,
     "end_time": "2021-12-19T05:36:06.923827",
     "exception": false,
     "start_time": "2021-12-19T05:36:06.895151",
     "status": "completed"
    },
    "tags": []
   },
   "outputs": [
    {
     "data": {
      "text/plain": [
       "5"
      ]
     },
     "execution_count": 11,
     "metadata": {},
     "output_type": "execute_result"
    }
   ],
   "source": [
    " x = -10\n",
    " y = 5\n",
    "# # Which of the two variables above has the smallest absolute value?\n",
    "smallest_abs = min(abs(x),abs(y))\n",
    "smallest_abs"
   ]
  },
  {
   "cell_type": "code",
   "execution_count": 12,
   "id": "5831e390",
   "metadata": {
    "execution": {
     "iopub.execute_input": "2021-12-19T05:36:06.967817Z",
     "iopub.status.busy": "2021-12-19T05:36:06.967097Z",
     "iopub.status.idle": "2021-12-19T05:36:06.972644Z",
     "shell.execute_reply": "2021-12-19T05:36:06.973237Z",
     "shell.execute_reply.started": "2021-12-19T05:33:59.389303Z"
    },
    "papermill": {
     "duration": 0.029517,
     "end_time": "2021-12-19T05:36:06.973415",
     "exception": false,
     "start_time": "2021-12-19T05:36:06.943898",
     "status": "completed"
    },
    "tags": []
   },
   "outputs": [
    {
     "name": "stdout",
     "output_type": "stream",
     "text": [
      "5\n"
     ]
    }
   ],
   "source": [
    " def f(x):\n",
    "        y = abs(x)\n",
    "        return y\n",
    "\n",
    " print(f(5))"
   ]
  },
  {
   "cell_type": "markdown",
   "id": "c49b21eb",
   "metadata": {
    "papermill": {
     "duration": 0.021112,
     "end_time": "2021-12-19T05:36:07.015468",
     "exception": false,
     "start_time": "2021-12-19T05:36:06.994356",
     "status": "completed"
    },
    "tags": []
   },
   "source": [
    "# Keep Going\n",
    "\n",
    "Nice job with the code. Next up, you'll learn about *conditionals*, which you'll need to **[write interesting programs](https://www.kaggle.com/colinmorris/booleans-and-conditionals)**. "
   ]
  },
  {
   "cell_type": "markdown",
   "id": "b0d9bb47",
   "metadata": {
    "papermill": {
     "duration": 0.019986,
     "end_time": "2021-12-19T05:36:07.055982",
     "exception": false,
     "start_time": "2021-12-19T05:36:07.035996",
     "status": "completed"
    },
    "tags": []
   },
   "source": [
    "---\n",
    "\n",
    "\n",
    "\n",
    "\n",
    "*Have questions or comments? Visit the [course discussion forum](https://www.kaggle.com/learn/python/discussion) to chat with other learners.*"
   ]
  }
 ],
 "metadata": {
  "kernelspec": {
   "display_name": "Python 3",
   "language": "python",
   "name": "python3"
  },
  "language_info": {
   "codemirror_mode": {
    "name": "ipython",
    "version": 3
   },
   "file_extension": ".py",
   "mimetype": "text/x-python",
   "name": "python",
   "nbconvert_exporter": "python",
   "pygments_lexer": "ipython3",
   "version": "3.7.12"
  },
  "papermill": {
   "default_parameters": {},
   "duration": 12.471748,
   "end_time": "2021-12-19T05:36:07.686504",
   "environment_variables": {},
   "exception": null,
   "input_path": "__notebook__.ipynb",
   "output_path": "__notebook__.ipynb",
   "parameters": {},
   "start_time": "2021-12-19T05:35:55.214756",
   "version": "2.3.3"
  }
 },
 "nbformat": 4,
 "nbformat_minor": 5
}
