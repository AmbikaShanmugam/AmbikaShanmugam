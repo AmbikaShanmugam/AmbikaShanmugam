{
 "cells": [
  {
   "cell_type": "markdown",
   "id": "26242f1d",
   "metadata": {
    "papermill": {
     "duration": 0.014165,
     "end_time": "2021-12-19T05:19:59.901316",
     "exception": false,
     "start_time": "2021-12-19T05:19:59.887151",
     "status": "completed"
    },
    "tags": []
   },
   "source": [
    "**This notebook is an exercise in the [Python](https://www.kaggle.com/learn/python) course.  You can reference the tutorial at [this link](https://www.kaggle.com/colinmorris/functions-and-getting-help).**\n",
    "\n",
    "---\n"
   ]
  },
  {
   "cell_type": "markdown",
   "id": "e25ff3e0",
   "metadata": {
    "papermill": {
     "duration": 0.012747,
     "end_time": "2021-12-19T05:19:59.927947",
     "exception": false,
     "start_time": "2021-12-19T05:19:59.915200",
     "status": "completed"
    },
    "tags": []
   },
   "source": [
    "Functions are powerful. Try writing some yourself.\n",
    "\n",
    "As before, don't forget to run the setup code below before jumping into question 1."
   ]
  },
  {
   "cell_type": "code",
   "execution_count": 1,
   "id": "d6ade3ae",
   "metadata": {
    "_kg_hide-input": true,
    "_kg_hide-output": true,
    "execution": {
     "iopub.execute_input": "2021-12-19T05:19:59.965052Z",
     "iopub.status.busy": "2021-12-19T05:19:59.961941Z",
     "iopub.status.idle": "2021-12-19T05:20:00.011239Z",
     "shell.execute_reply": "2021-12-19T05:20:00.011983Z",
     "shell.execute_reply.started": "2021-12-19T05:00:49.557898Z"
    },
    "papermill": {
     "duration": 0.071646,
     "end_time": "2021-12-19T05:20:00.012354",
     "exception": false,
     "start_time": "2021-12-19T05:19:59.940708",
     "status": "completed"
    },
    "tags": []
   },
   "outputs": [
    {
     "name": "stdout",
     "output_type": "stream",
     "text": [
      "Setup complete.\n"
     ]
    }
   ],
   "source": [
    "# SETUP. You don't need to worry for now about what this code does or how it works.\n",
    "from learntools.core import binder; binder.bind(globals())\n",
    "from learntools.python.ex2 import *\n",
    "print('Setup complete.')"
   ]
  },
  {
   "cell_type": "markdown",
   "id": "286e0100",
   "metadata": {
    "papermill": {
     "duration": 0.013164,
     "end_time": "2021-12-19T05:20:00.040732",
     "exception": false,
     "start_time": "2021-12-19T05:20:00.027568",
     "status": "completed"
    },
    "tags": []
   },
   "source": [
    "# 1.\n",
    "\n",
    "Complete the body of the following function according to its docstring.\n",
    "\n",
    "HINT: Python has a built-in function `round`."
   ]
  },
  {
   "cell_type": "code",
   "execution_count": 2,
   "id": "5b2ec752",
   "metadata": {
    "execution": {
     "iopub.execute_input": "2021-12-19T05:20:00.070732Z",
     "iopub.status.busy": "2021-12-19T05:20:00.070094Z",
     "iopub.status.idle": "2021-12-19T05:20:00.080712Z",
     "shell.execute_reply": "2021-12-19T05:20:00.080208Z",
     "shell.execute_reply.started": "2021-12-19T05:05:19.556772Z"
    },
    "papermill": {
     "duration": 0.026704,
     "end_time": "2021-12-19T05:20:00.080867",
     "exception": false,
     "start_time": "2021-12-19T05:20:00.054163",
     "status": "completed"
    },
    "tags": []
   },
   "outputs": [
    {
     "data": {
      "application/javascript": [
       "parent.postMessage({\"jupyterEvent\": \"custom.exercise_interaction\", \"data\": {\"outcomeType\": 1, \"valueTowardsCompletion\": 0.16666666666666666, \"interactionType\": 1, \"questionType\": 2, \"questionId\": \"1_RoundFunctionProblem\", \"learnToolsVersion\": \"0.3.4\", \"failureMessage\": \"\", \"exceptionClass\": \"\", \"trace\": \"\"}}, \"*\")"
      ],
      "text/plain": [
       "<IPython.core.display.Javascript object>"
      ]
     },
     "metadata": {},
     "output_type": "display_data"
    },
    {
     "data": {
      "text/markdown": [
       "<span style=\"color:#33cc33\">Correct</span>"
      ],
      "text/plain": [
       "Correct"
      ]
     },
     "metadata": {},
     "output_type": "display_data"
    }
   ],
   "source": [
    "def round_to_two_places(num):\n",
    "    \"\"\"Return the given number rounded to two decimal places. \n",
    "    \n",
    "    >>> round_to_two_places(3.14159)\n",
    "    3.14\n",
    "    \"\"\"\n",
    "    c=round(num,2)\n",
    "    return c\n",
    "    # Replace this body with your own code.\n",
    "    # (\"pass\" is a keyword that does literally nothing. We used it as a placeholder\n",
    "    # because after we begin a code block, Python requires at least one line of code)\n",
    "    pass\n",
    "\n",
    "# Check your answer\n",
    "q1.check()"
   ]
  },
  {
   "cell_type": "code",
   "execution_count": 3,
   "id": "fd567a2f",
   "metadata": {
    "execution": {
     "iopub.execute_input": "2021-12-19T05:20:00.113883Z",
     "iopub.status.busy": "2021-12-19T05:20:00.113238Z",
     "iopub.status.idle": "2021-12-19T05:20:00.115766Z",
     "shell.execute_reply": "2021-12-19T05:20:00.116294Z"
    },
    "papermill": {
     "duration": 0.021046,
     "end_time": "2021-12-19T05:20:00.116457",
     "exception": false,
     "start_time": "2021-12-19T05:20:00.095411",
     "status": "completed"
    },
    "tags": []
   },
   "outputs": [],
   "source": [
    "# Uncomment the following for a hint\n",
    "#q1.hint()\n",
    "# Or uncomment the following to peek at the solution\n",
    "#q1.solution()"
   ]
  },
  {
   "cell_type": "markdown",
   "id": "bfb8e091",
   "metadata": {
    "papermill": {
     "duration": 0.014148,
     "end_time": "2021-12-19T05:20:00.145526",
     "exception": false,
     "start_time": "2021-12-19T05:20:00.131378",
     "status": "completed"
    },
    "tags": []
   },
   "source": [
    "# 2.\n",
    "The help for `round` says that `ndigits` (the second argument) may be negative.\n",
    "What do you think will happen when it is? Try some examples in the following cell."
   ]
  },
  {
   "cell_type": "code",
   "execution_count": 4,
   "id": "f4eb9aee",
   "metadata": {
    "execution": {
     "iopub.execute_input": "2021-12-19T05:20:00.177802Z",
     "iopub.status.busy": "2021-12-19T05:20:00.177174Z",
     "iopub.status.idle": "2021-12-19T05:20:00.181955Z",
     "shell.execute_reply": "2021-12-19T05:20:00.182472Z",
     "shell.execute_reply.started": "2021-12-19T05:06:25.772596Z"
    },
    "papermill": {
     "duration": 0.022542,
     "end_time": "2021-12-19T05:20:00.182656",
     "exception": false,
     "start_time": "2021-12-19T05:20:00.160114",
     "status": "completed"
    },
    "tags": []
   },
   "outputs": [
    {
     "data": {
      "text/plain": [
       "20.0"
      ]
     },
     "execution_count": 4,
     "metadata": {},
     "output_type": "execute_result"
    }
   ],
   "source": [
    "# Put your test code here\n",
    "round(22.1342,-1)"
   ]
  },
  {
   "cell_type": "markdown",
   "id": "94cd5472",
   "metadata": {
    "papermill": {
     "duration": 0.014633,
     "end_time": "2021-12-19T05:20:00.212022",
     "exception": false,
     "start_time": "2021-12-19T05:20:00.197389",
     "status": "completed"
    },
    "tags": []
   },
   "source": [
    "Can you think of a case where this would be useful?  Once you're ready, run the code cell below to see the answer and to receive credit for completing the problem."
   ]
  },
  {
   "cell_type": "code",
   "execution_count": 5,
   "id": "12a4769f",
   "metadata": {
    "execution": {
     "iopub.execute_input": "2021-12-19T05:20:00.247416Z",
     "iopub.status.busy": "2021-12-19T05:20:00.246477Z",
     "iopub.status.idle": "2021-12-19T05:20:00.253329Z",
     "shell.execute_reply": "2021-12-19T05:20:00.252656Z",
     "shell.execute_reply.started": "2021-12-19T05:06:37.280179Z"
    },
    "papermill": {
     "duration": 0.026438,
     "end_time": "2021-12-19T05:20:00.253476",
     "exception": false,
     "start_time": "2021-12-19T05:20:00.227038",
     "status": "completed"
    },
    "tags": []
   },
   "outputs": [
    {
     "data": {
      "application/javascript": [
       "parent.postMessage({\"jupyterEvent\": \"custom.exercise_interaction\", \"data\": {\"interactionType\": 3, \"questionType\": 4, \"questionId\": \"2_RoundNdigitsProblem\", \"learnToolsVersion\": \"0.3.4\", \"valueTowardsCompletion\": 0.0, \"failureMessage\": \"\", \"exceptionClass\": \"\", \"trace\": \"\", \"outcomeType\": 4}}, \"*\")"
      ],
      "text/plain": [
       "<IPython.core.display.Javascript object>"
      ]
     },
     "metadata": {},
     "output_type": "display_data"
    },
    {
     "data": {
      "text/markdown": [
       "<span style=\"color:#33cc99\">Solution:</span> As you've seen, `ndigits=-1` rounds to the nearest 10, `ndigits=-2` rounds to the nearest 100 and so on. Where might this be useful? Suppose we're dealing with large numbers:\n",
       "\n",
       "> The area of Finland is 338,424 km²  \n",
       "> The area of Greenland is 2,166,086 km²\n",
       "\n",
       "We probably don't care whether it's really 338,424, or 338,425, or 338,177. All those digits of accuracy are just distracting. We can chop them off by calling `round()` with `ndigits=-3`:\n",
       "\n",
       "> The area of Finland is 338,000 km²  \n",
       "> The area of Greenland is 2,166,000 km²\n",
       "\n",
       "(We'll talk about how we would get the commas later when we talk about string formatting :))\n"
      ],
      "text/plain": [
       "Solution: As you've seen, `ndigits=-1` rounds to the nearest 10, `ndigits=-2` rounds to the nearest 100 and so on. Where might this be useful? Suppose we're dealing with large numbers:\n",
       "\n",
       "> The area of Finland is 338,424 km²  \n",
       "> The area of Greenland is 2,166,086 km²\n",
       "\n",
       "We probably don't care whether it's really 338,424, or 338,425, or 338,177. All those digits of accuracy are just distracting. We can chop them off by calling `round()` with `ndigits=-3`:\n",
       "\n",
       "> The area of Finland is 338,000 km²  \n",
       "> The area of Greenland is 2,166,000 km²\n",
       "\n",
       "(We'll talk about how we would get the commas later when we talk about string formatting :))"
      ]
     },
     "metadata": {},
     "output_type": "display_data"
    }
   ],
   "source": [
    "# Check your answer (Run this code cell to receive credit!)\n",
    "q2.solution()"
   ]
  },
  {
   "cell_type": "markdown",
   "id": "bf6b1b04",
   "metadata": {
    "papermill": {
     "duration": 0.016026,
     "end_time": "2021-12-19T05:20:00.285684",
     "exception": false,
     "start_time": "2021-12-19T05:20:00.269658",
     "status": "completed"
    },
    "tags": []
   },
   "source": [
    "# 3.\n",
    "\n",
    "In the previous exercise, the candy-sharing friends Alice, Bob and Carol tried to split candies evenly. For the sake of their friendship, any candies left over would be smashed. For example, if they collectively bring home 91 candies, they'll take 30 each and smash 1.\n",
    "\n",
    "Below is a simple function that will calculate the number of candies to smash for *any* number of total candies.\n",
    "\n",
    "Modify it so that it optionally takes a second argument representing the number of friends the candies are being split between. If no second argument is provided, it should assume 3 friends, as before.\n",
    "\n",
    "Update the docstring to reflect this new behaviour."
   ]
  },
  {
   "cell_type": "code",
   "execution_count": 6,
   "id": "fb2c2dc8",
   "metadata": {
    "execution": {
     "iopub.execute_input": "2021-12-19T05:20:00.324192Z",
     "iopub.status.busy": "2021-12-19T05:20:00.323057Z",
     "iopub.status.idle": "2021-12-19T05:20:00.329442Z",
     "shell.execute_reply": "2021-12-19T05:20:00.328850Z"
    },
    "papermill": {
     "duration": 0.02803,
     "end_time": "2021-12-19T05:20:00.329590",
     "exception": false,
     "start_time": "2021-12-19T05:20:00.301560",
     "status": "completed"
    },
    "tags": []
   },
   "outputs": [
    {
     "data": {
      "application/javascript": [
       "parent.postMessage({\"jupyterEvent\": \"custom.exercise_interaction\", \"data\": {\"outcomeType\": 2, \"failureMessage\": \"`to_smash` should be callable with two arguments (e.g. `to_smash(10, 2)`\", \"interactionType\": 1, \"questionType\": 2, \"questionId\": \"3_CandySmashingFunctionProblem\", \"learnToolsVersion\": \"0.3.4\", \"valueTowardsCompletion\": 0.0, \"exceptionClass\": \"\", \"trace\": \"\"}}, \"*\")"
      ],
      "text/plain": [
       "<IPython.core.display.Javascript object>"
      ]
     },
     "metadata": {},
     "output_type": "display_data"
    },
    {
     "data": {
      "text/markdown": [
       "<span style=\"color:#cc3333\">Incorrect:</span> `to_smash` should be callable with two arguments (e.g. `to_smash(10, 2)`"
      ],
      "text/plain": [
       "Incorrect: `to_smash` should be callable with two arguments (e.g. `to_smash(10, 2)`"
      ]
     },
     "metadata": {},
     "output_type": "display_data"
    }
   ],
   "source": [
    "def to_smash(total_candies):\n",
    "    \"\"\"Return the number of leftover candies that must be smashed after distributing\n",
    "    the given number of candies evenly between 3 friends.\n",
    "    \n",
    "    >>> to_smash(91)\n",
    "    1\n",
    "    \"\"\"\n",
    "    return total_candies % 3\n",
    "\n",
    "# Check your answer\n",
    "q3.check()"
   ]
  },
  {
   "cell_type": "code",
   "execution_count": 7,
   "id": "65e39188",
   "metadata": {
    "execution": {
     "iopub.execute_input": "2021-12-19T05:20:00.368331Z",
     "iopub.status.busy": "2021-12-19T05:20:00.367646Z",
     "iopub.status.idle": "2021-12-19T05:20:00.370731Z",
     "shell.execute_reply": "2021-12-19T05:20:00.370220Z"
    },
    "papermill": {
     "duration": 0.024364,
     "end_time": "2021-12-19T05:20:00.370866",
     "exception": false,
     "start_time": "2021-12-19T05:20:00.346502",
     "status": "completed"
    },
    "tags": []
   },
   "outputs": [],
   "source": [
    "#q3.hint()"
   ]
  },
  {
   "cell_type": "code",
   "execution_count": 8,
   "id": "d2948e98",
   "metadata": {
    "execution": {
     "iopub.execute_input": "2021-12-19T05:20:00.408179Z",
     "iopub.status.busy": "2021-12-19T05:20:00.407559Z",
     "iopub.status.idle": "2021-12-19T05:20:00.410840Z",
     "shell.execute_reply": "2021-12-19T05:20:00.411390Z"
    },
    "papermill": {
     "duration": 0.023601,
     "end_time": "2021-12-19T05:20:00.411553",
     "exception": false,
     "start_time": "2021-12-19T05:20:00.387952",
     "status": "completed"
    },
    "tags": []
   },
   "outputs": [],
   "source": [
    "#q3.solution()"
   ]
  },
  {
   "cell_type": "markdown",
   "id": "7b0be7e0",
   "metadata": {
    "papermill": {
     "duration": 0.016737,
     "end_time": "2021-12-19T05:20:00.445780",
     "exception": false,
     "start_time": "2021-12-19T05:20:00.429043",
     "status": "completed"
    },
    "tags": []
   },
   "source": [
    "# 4. (Optional)\n",
    "\n",
    "It may not be fun, but reading and understanding error messages will be an important part of your Python career.\n",
    "\n",
    "Each code cell below contains some commented buggy code. For each cell...\n",
    "\n",
    "1. Read the code and predict what you think will happen when it's run.\n",
    "2. Then uncomment the code and run it to see what happens. (**Tip**: In the kernel editor, you can highlight several lines and press `ctrl`+`/` to toggle commenting.)\n",
    "3. Fix the code (so that it accomplishes its intended purpose without throwing an exception)\n",
    "\n",
    "<!-- TODO: should this be autochecked? Delta is probably pretty small. -->"
   ]
  },
  {
   "cell_type": "code",
   "execution_count": 9,
   "id": "40b8b5f7",
   "metadata": {
    "execution": {
     "iopub.execute_input": "2021-12-19T05:20:00.482993Z",
     "iopub.status.busy": "2021-12-19T05:20:00.482336Z",
     "iopub.status.idle": "2021-12-19T05:20:00.485145Z",
     "shell.execute_reply": "2021-12-19T05:20:00.485702Z"
    },
    "papermill": {
     "duration": 0.023134,
     "end_time": "2021-12-19T05:20:00.485867",
     "exception": false,
     "start_time": "2021-12-19T05:20:00.462733",
     "status": "completed"
    },
    "tags": []
   },
   "outputs": [],
   "source": [
    "# ruound_to_two_places(9.9999)"
   ]
  },
  {
   "cell_type": "code",
   "execution_count": 10,
   "id": "f2fe3c34",
   "metadata": {
    "execution": {
     "iopub.execute_input": "2021-12-19T05:20:00.523894Z",
     "iopub.status.busy": "2021-12-19T05:20:00.523300Z",
     "iopub.status.idle": "2021-12-19T05:20:00.526244Z",
     "shell.execute_reply": "2021-12-19T05:20:00.526786Z"
    },
    "papermill": {
     "duration": 0.023201,
     "end_time": "2021-12-19T05:20:00.526976",
     "exception": false,
     "start_time": "2021-12-19T05:20:00.503775",
     "status": "completed"
    },
    "tags": []
   },
   "outputs": [],
   "source": [
    "# x = -10\n",
    "# y = 5\n",
    "# # Which of the two variables above has the smallest absolute value?\n",
    "# smallest_abs = min(abs(x, y))"
   ]
  },
  {
   "cell_type": "code",
   "execution_count": 11,
   "id": "92d711c1",
   "metadata": {
    "execution": {
     "iopub.execute_input": "2021-12-19T05:20:00.566060Z",
     "iopub.status.busy": "2021-12-19T05:20:00.564908Z",
     "iopub.status.idle": "2021-12-19T05:20:00.568626Z",
     "shell.execute_reply": "2021-12-19T05:20:00.569261Z"
    },
    "papermill": {
     "duration": 0.024725,
     "end_time": "2021-12-19T05:20:00.569436",
     "exception": false,
     "start_time": "2021-12-19T05:20:00.544711",
     "status": "completed"
    },
    "tags": []
   },
   "outputs": [],
   "source": [
    "# def f(x):\n",
    "#     y = abs(x)\n",
    "# return y\n",
    "\n",
    "# print(f(5))"
   ]
  },
  {
   "cell_type": "markdown",
   "id": "0c021547",
   "metadata": {
    "papermill": {
     "duration": 0.017242,
     "end_time": "2021-12-19T05:20:00.604493",
     "exception": false,
     "start_time": "2021-12-19T05:20:00.587251",
     "status": "completed"
    },
    "tags": []
   },
   "source": [
    "# Keep Going\n",
    "\n",
    "Nice job with the code. Next up, you'll learn about *conditionals*, which you'll need to **[write interesting programs](https://www.kaggle.com/colinmorris/booleans-and-conditionals)**. "
   ]
  },
  {
   "cell_type": "markdown",
   "id": "1db929ca",
   "metadata": {
    "papermill": {
     "duration": 0.017168,
     "end_time": "2021-12-19T05:20:00.639237",
     "exception": false,
     "start_time": "2021-12-19T05:20:00.622069",
     "status": "completed"
    },
    "tags": []
   },
   "source": [
    "---\n",
    "\n",
    "\n",
    "\n",
    "\n",
    "*Have questions or comments? Visit the [course discussion forum](https://www.kaggle.com/learn/python/discussion) to chat with other learners.*"
   ]
  }
 ],
 "metadata": {
  "kernelspec": {
   "display_name": "Python 3",
   "language": "python",
   "name": "python3"
  },
  "language_info": {
   "codemirror_mode": {
    "name": "ipython",
    "version": 3
   },
   "file_extension": ".py",
   "mimetype": "text/x-python",
   "name": "python",
   "nbconvert_exporter": "python",
   "pygments_lexer": "ipython3",
   "version": "3.7.12"
  },
  "papermill": {
   "default_parameters": {},
   "duration": 11.97468,
   "end_time": "2021-12-19T05:20:01.271235",
   "environment_variables": {},
   "exception": null,
   "input_path": "__notebook__.ipynb",
   "output_path": "__notebook__.ipynb",
   "parameters": {},
   "start_time": "2021-12-19T05:19:49.296555",
   "version": "2.3.3"
  }
 },
 "nbformat": 4,
 "nbformat_minor": 5
}
