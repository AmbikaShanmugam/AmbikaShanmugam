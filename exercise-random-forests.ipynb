{
 "cells": [
  {
   "cell_type": "markdown",
   "id": "f0e009b7",
   "metadata": {
    "papermill": {
     "duration": 0.009547,
     "end_time": "2021-12-23T17:42:15.190848",
     "exception": false,
     "start_time": "2021-12-23T17:42:15.181301",
     "status": "completed"
    },
    "tags": []
   },
   "source": [
    "**This notebook is an exercise in the [Introduction to Machine Learning](https://www.kaggle.com/learn/intro-to-machine-learning) course.  You can reference the tutorial at [this link](https://www.kaggle.com/dansbecker/random-forests).**\n",
    "\n",
    "---\n"
   ]
  },
  {
   "cell_type": "markdown",
   "id": "3c23bda9",
   "metadata": {
    "papermill": {
     "duration": 0.0068,
     "end_time": "2021-12-23T17:42:15.203928",
     "exception": false,
     "start_time": "2021-12-23T17:42:15.197128",
     "status": "completed"
    },
    "tags": []
   },
   "source": [
    "## Recap\n",
    "Here's the code you've written so far."
   ]
  },
  {
   "cell_type": "code",
   "execution_count": 1,
   "id": "cbd22fcf",
   "metadata": {
    "execution": {
     "iopub.execute_input": "2021-12-23T17:42:15.222836Z",
     "iopub.status.busy": "2021-12-23T17:42:15.221207Z",
     "iopub.status.idle": "2021-12-23T17:42:16.556278Z",
     "shell.execute_reply": "2021-12-23T17:42:16.555619Z",
     "shell.execute_reply.started": "2021-12-23T17:39:02.314668Z"
    },
    "papermill": {
     "duration": 1.346826,
     "end_time": "2021-12-23T17:42:16.556448",
     "exception": false,
     "start_time": "2021-12-23T17:42:15.209622",
     "status": "completed"
    },
    "tags": []
   },
   "outputs": [
    {
     "name": "stdout",
     "output_type": "stream",
     "text": [
      "Validation MAE when not specifying max_leaf_nodes: 29,653\n",
      "Validation MAE for best value of max_leaf_nodes: 27,283\n",
      "\n",
      "Setup complete\n"
     ]
    }
   ],
   "source": [
    "# Code you have previously used to load data\n",
    "import pandas as pd\n",
    "from sklearn.metrics import mean_absolute_error\n",
    "from sklearn.model_selection import train_test_split\n",
    "from sklearn.tree import DecisionTreeRegressor\n",
    "\n",
    "\n",
    "# Path of the file to read\n",
    "iowa_file_path = '../input/home-data-for-ml-course/train.csv'\n",
    "\n",
    "home_data = pd.read_csv(iowa_file_path)\n",
    "# Create target object and call it y\n",
    "y = home_data.SalePrice\n",
    "# Create X\n",
    "features = ['LotArea', 'YearBuilt', '1stFlrSF', '2ndFlrSF', 'FullBath', 'BedroomAbvGr', 'TotRmsAbvGrd']\n",
    "X = home_data[features]\n",
    "\n",
    "# Split into validation and training data\n",
    "train_X, val_X, train_y, val_y = train_test_split(X, y, random_state=1)\n",
    "\n",
    "# Specify Model\n",
    "iowa_model = DecisionTreeRegressor(random_state=1)\n",
    "# Fit Model\n",
    "iowa_model.fit(train_X, train_y)\n",
    "\n",
    "# Make validation predictions and calculate mean absolute error\n",
    "val_predictions = iowa_model.predict(val_X)\n",
    "val_mae = mean_absolute_error(val_predictions, val_y)\n",
    "print(\"Validation MAE when not specifying max_leaf_nodes: {:,.0f}\".format(val_mae))\n",
    "\n",
    "# Using best value for max_leaf_nodes\n",
    "iowa_model = DecisionTreeRegressor(max_leaf_nodes=100, random_state=1)\n",
    "iowa_model.fit(train_X, train_y)\n",
    "val_predictions = iowa_model.predict(val_X)\n",
    "val_mae = mean_absolute_error(val_predictions, val_y)\n",
    "print(\"Validation MAE for best value of max_leaf_nodes: {:,.0f}\".format(val_mae))\n",
    "\n",
    "\n",
    "# Set up code checking\n",
    "from learntools.core import binder\n",
    "binder.bind(globals())\n",
    "from learntools.machine_learning.ex6 import *\n",
    "print(\"\\nSetup complete\")"
   ]
  },
  {
   "cell_type": "markdown",
   "id": "0986ff48",
   "metadata": {
    "papermill": {
     "duration": 0.005264,
     "end_time": "2021-12-23T17:42:16.567349",
     "exception": false,
     "start_time": "2021-12-23T17:42:16.562085",
     "status": "completed"
    },
    "tags": []
   },
   "source": [
    "# Exercises\n",
    "Data science isn't always this easy. But replacing the decision tree with a Random Forest is going to be an easy win."
   ]
  },
  {
   "cell_type": "markdown",
   "id": "c6a497a0",
   "metadata": {
    "papermill": {
     "duration": 0.005074,
     "end_time": "2021-12-23T17:42:16.578263",
     "exception": false,
     "start_time": "2021-12-23T17:42:16.573189",
     "status": "completed"
    },
    "tags": []
   },
   "source": [
    "## Step 1: Use a Random Forest"
   ]
  },
  {
   "cell_type": "code",
   "execution_count": 2,
   "id": "ec047b7b",
   "metadata": {
    "execution": {
     "iopub.execute_input": "2021-12-23T17:42:16.594265Z",
     "iopub.status.busy": "2021-12-23T17:42:16.593699Z",
     "iopub.status.idle": "2021-12-23T17:42:17.059775Z",
     "shell.execute_reply": "2021-12-23T17:42:17.060231Z",
     "shell.execute_reply.started": "2021-12-23T17:41:22.990977Z"
    },
    "papermill": {
     "duration": 0.476762,
     "end_time": "2021-12-23T17:42:17.060442",
     "exception": false,
     "start_time": "2021-12-23T17:42:16.583680",
     "status": "completed"
    },
    "tags": []
   },
   "outputs": [
    {
     "name": "stdout",
     "output_type": "stream",
     "text": [
      "Validation MAE for Random Forest Model: 21857.15912981083\n"
     ]
    },
    {
     "data": {
      "application/javascript": [
       "parent.postMessage({\"jupyterEvent\": \"custom.exercise_interaction\", \"data\": {\"outcomeType\": 1, \"valueTowardsCompletion\": 1.0, \"interactionType\": 1, \"questionType\": 2, \"questionId\": \"1_CheckRfScore\", \"learnToolsVersion\": \"0.3.4\", \"failureMessage\": \"\", \"exceptionClass\": \"\", \"trace\": \"\"}}, \"*\")"
      ],
      "text/plain": [
       "<IPython.core.display.Javascript object>"
      ]
     },
     "metadata": {},
     "output_type": "display_data"
    },
    {
     "data": {
      "text/markdown": [
       "<span style=\"color:#33cc33\">Correct</span>"
      ],
      "text/plain": [
       "Correct"
      ]
     },
     "metadata": {},
     "output_type": "display_data"
    }
   ],
   "source": [
    "from sklearn.ensemble import RandomForestRegressor\n",
    "\n",
    "# Define the model. Set random_state to 1\n",
    "rf_model = RandomForestRegressor(random_state=1)\n",
    "\n",
    "# fit your model\n",
    "rf_model.fit(train_X,train_y)\n",
    "predict_val=rf_model.predict(val_X)\n",
    "\n",
    "# Calculate the mean absolute error of your Random Forest model on the validation data\n",
    "rf_val_mae = mean_absolute_error(predict_val,val_y)\n",
    "\n",
    "print(\"Validation MAE for Random Forest Model: {}\".format(rf_val_mae))\n",
    "\n",
    "# Check your answer\n",
    "step_1.check()"
   ]
  },
  {
   "cell_type": "code",
   "execution_count": 3,
   "id": "9fb02a84",
   "metadata": {
    "execution": {
     "iopub.execute_input": "2021-12-23T17:42:17.078576Z",
     "iopub.status.busy": "2021-12-23T17:42:17.077693Z",
     "iopub.status.idle": "2021-12-23T17:42:17.080456Z",
     "shell.execute_reply": "2021-12-23T17:42:17.079861Z"
    },
    "papermill": {
     "duration": 0.013292,
     "end_time": "2021-12-23T17:42:17.080591",
     "exception": false,
     "start_time": "2021-12-23T17:42:17.067299",
     "status": "completed"
    },
    "tags": []
   },
   "outputs": [],
   "source": [
    "# The lines below will show you a hint or the solution.\n",
    "# step_1.hint() \n",
    "# step_1.solution()\n"
   ]
  },
  {
   "cell_type": "markdown",
   "id": "8bc78146",
   "metadata": {
    "papermill": {
     "duration": 0.006448,
     "end_time": "2021-12-23T17:42:17.093516",
     "exception": false,
     "start_time": "2021-12-23T17:42:17.087068",
     "status": "completed"
    },
    "tags": []
   },
   "source": [
    "So far, you have followed specific instructions at each step of your project. This helped learn key ideas and build your first model, but now you know enough to try things on your own. \n",
    "\n",
    "Machine Learning competitions are a great way to try your own ideas and learn more as you independently navigate a machine learning project. \n",
    "\n",
    "# Keep Going\n",
    "\n",
    "You are ready for **[Machine Learning Competitions](https://www.kaggle.com/alexisbcook/machine-learning-competitions).**\n"
   ]
  },
  {
   "cell_type": "markdown",
   "id": "85229f77",
   "metadata": {
    "papermill": {
     "duration": 0.006986,
     "end_time": "2021-12-23T17:42:17.108809",
     "exception": false,
     "start_time": "2021-12-23T17:42:17.101823",
     "status": "completed"
    },
    "tags": []
   },
   "source": [
    "---\n",
    "\n",
    "\n",
    "\n",
    "\n",
    "*Have questions or comments? Visit the [course discussion forum](https://www.kaggle.com/learn/intro-to-machine-learning/discussion) to chat with other learners.*"
   ]
  }
 ],
 "metadata": {
  "kernelspec": {
   "display_name": "Python 3",
   "language": "python",
   "name": "python3"
  },
  "language_info": {
   "codemirror_mode": {
    "name": "ipython",
    "version": 3
   },
   "file_extension": ".py",
   "mimetype": "text/x-python",
   "name": "python",
   "nbconvert_exporter": "python",
   "pygments_lexer": "ipython3",
   "version": "3.7.12"
  },
  "papermill": {
   "default_parameters": {},
   "duration": 12.333852,
   "end_time": "2021-12-23T17:42:17.827123",
   "environment_variables": {},
   "exception": null,
   "input_path": "__notebook__.ipynb",
   "output_path": "__notebook__.ipynb",
   "parameters": {},
   "start_time": "2021-12-23T17:42:05.493271",
   "version": "2.3.3"
  }
 },
 "nbformat": 4,
 "nbformat_minor": 5
}
